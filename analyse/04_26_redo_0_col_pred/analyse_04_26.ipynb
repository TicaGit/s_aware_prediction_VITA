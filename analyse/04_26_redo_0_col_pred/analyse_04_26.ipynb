{
 "cells": [
  {
   "cell_type": "code",
   "execution_count": 16,
   "metadata": {},
   "outputs": [],
   "source": [
    "import pandas as pd\n",
    "import matplotlib.pyplot as plt\n",
    "import numpy as np"
   ]
  },
  {
   "attachments": {},
   "cell_type": "markdown",
   "metadata": {},
   "source": [
    "## EXP WITH NOISE "
   ]
  },
  {
   "cell_type": "code",
   "execution_count": 17,
   "metadata": {},
   "outputs": [],
   "source": [
    "df0 = pd.read_csv(\"data/results_predict_all_0.0.txt\", sep=\"\\t\")\n",
    "df4 = pd.read_csv(\"data/results_predict_all_0.004.txt\", sep=\"\\t\")\n",
    "df8 = pd.read_csv(\"data/results_predict_all_0.008.txt\", sep=\"\\t\")\n",
    "df12 = pd.read_csv(\"data/results_predict_all_0.012.txt\", sep=\"\\t\")\n",
    "df16 = pd.read_csv(\"data/results_predict_all_0.016.txt\", sep=\"\\t\")\n",
    "df20 = pd.read_csv(\"data/results_predict_all_0.02.txt\", sep=\"\\t\")\n",
    "\n",
    "\n",
    "df = pd.concat((df0, df4, df8, df12, df16, df20), ignore_index=True)"
   ]
  },
  {
   "cell_type": "code",
   "execution_count": 18,
   "metadata": {},
   "outputs": [
    {
     "name": "stdout",
     "output_type": "stream",
     "text": [
      "18\n"
     ]
    }
   ],
   "source": [
    "print(df[df[\"col\"] == -2].shape[0])\n",
    "df = df[df[\"col\"] != -2]"
   ]
  },
  {
   "cell_type": "code",
   "execution_count": 19,
   "metadata": {},
   "outputs": [
    {
     "data": {
      "text/html": [
       "<div>\n",
       "<style scoped>\n",
       "    .dataframe tbody tr th:only-of-type {\n",
       "        vertical-align: middle;\n",
       "    }\n",
       "\n",
       "    .dataframe tbody tr th {\n",
       "        vertical-align: top;\n",
       "    }\n",
       "\n",
       "    .dataframe thead th {\n",
       "        text-align: right;\n",
       "    }\n",
       "</style>\n",
       "<table border=\"1\" class=\"dataframe\">\n",
       "  <thead>\n",
       "    <tr style=\"text-align: right;\">\n",
       "      <th></th>\n",
       "      <th>scene_id</th>\n",
       "      <th>sigma</th>\n",
       "      <th>col</th>\n",
       "      <th>noise_norm</th>\n",
       "      <th>ade</th>\n",
       "      <th>fde</th>\n",
       "    </tr>\n",
       "  </thead>\n",
       "  <tbody>\n",
       "    <tr>\n",
       "      <th>119</th>\n",
       "      <td>39</td>\n",
       "      <td>0.000</td>\n",
       "      <td>1</td>\n",
       "      <td>0.000000</td>\n",
       "      <td>0.348683</td>\n",
       "      <td>0.623938</td>\n",
       "    </tr>\n",
       "    <tr>\n",
       "      <th>143</th>\n",
       "      <td>47</td>\n",
       "      <td>0.000</td>\n",
       "      <td>1</td>\n",
       "      <td>0.000000</td>\n",
       "      <td>0.282354</td>\n",
       "      <td>0.810002</td>\n",
       "    </tr>\n",
       "    <tr>\n",
       "      <th>317</th>\n",
       "      <td>105</td>\n",
       "      <td>0.000</td>\n",
       "      <td>1</td>\n",
       "      <td>0.000000</td>\n",
       "      <td>1.460181</td>\n",
       "      <td>3.883822</td>\n",
       "    </tr>\n",
       "    <tr>\n",
       "      <th>323</th>\n",
       "      <td>107</td>\n",
       "      <td>0.000</td>\n",
       "      <td>1</td>\n",
       "      <td>0.000000</td>\n",
       "      <td>2.007343</td>\n",
       "      <td>4.037057</td>\n",
       "    </tr>\n",
       "    <tr>\n",
       "      <th>350</th>\n",
       "      <td>116</td>\n",
       "      <td>0.000</td>\n",
       "      <td>1</td>\n",
       "      <td>0.000000</td>\n",
       "      <td>1.750261</td>\n",
       "      <td>3.631921</td>\n",
       "    </tr>\n",
       "    <tr>\n",
       "      <th>...</th>\n",
       "      <td>...</td>\n",
       "      <td>...</td>\n",
       "      <td>...</td>\n",
       "      <td>...</td>\n",
       "      <td>...</td>\n",
       "      <td>...</td>\n",
       "    </tr>\n",
       "    <tr>\n",
       "      <th>10373</th>\n",
       "      <td>346</td>\n",
       "      <td>0.012</td>\n",
       "      <td>1</td>\n",
       "      <td>0.010905</td>\n",
       "      <td>1.182992</td>\n",
       "      <td>2.702620</td>\n",
       "    </tr>\n",
       "    <tr>\n",
       "      <th>11305</th>\n",
       "      <td>812</td>\n",
       "      <td>0.012</td>\n",
       "      <td>1</td>\n",
       "      <td>0.012629</td>\n",
       "      <td>0.849438</td>\n",
       "      <td>1.716839</td>\n",
       "    </tr>\n",
       "    <tr>\n",
       "      <th>11466</th>\n",
       "      <td>892</td>\n",
       "      <td>0.012</td>\n",
       "      <td>1</td>\n",
       "      <td>0.013146</td>\n",
       "      <td>0.940340</td>\n",
       "      <td>2.331965</td>\n",
       "    </tr>\n",
       "    <tr>\n",
       "      <th>12235</th>\n",
       "      <td>1417</td>\n",
       "      <td>0.012</td>\n",
       "      <td>1</td>\n",
       "      <td>0.010037</td>\n",
       "      <td>0.877529</td>\n",
       "      <td>1.727276</td>\n",
       "    </tr>\n",
       "    <tr>\n",
       "      <th>17597</th>\n",
       "      <td>812</td>\n",
       "      <td>0.020</td>\n",
       "      <td>1</td>\n",
       "      <td>0.020838</td>\n",
       "      <td>0.842893</td>\n",
       "      <td>1.693029</td>\n",
       "    </tr>\n",
       "  </tbody>\n",
       "</table>\n",
       "<p>169 rows × 6 columns</p>\n",
       "</div>"
      ],
      "text/plain": [
       "       scene_id  sigma  col  noise_norm       ade       fde\n",
       "119          39  0.000    1    0.000000  0.348683  0.623938\n",
       "143          47  0.000    1    0.000000  0.282354  0.810002\n",
       "317         105  0.000    1    0.000000  1.460181  3.883822\n",
       "323         107  0.000    1    0.000000  2.007343  4.037057\n",
       "350         116  0.000    1    0.000000  1.750261  3.631921\n",
       "...         ...    ...  ...         ...       ...       ...\n",
       "10373       346  0.012    1    0.010905  1.182992  2.702620\n",
       "11305       812  0.012    1    0.012629  0.849438  1.716839\n",
       "11466       892  0.012    1    0.013146  0.940340  2.331965\n",
       "12235      1417  0.012    1    0.010037  0.877529  1.727276\n",
       "17597       812  0.020    1    0.020838  0.842893  1.693029\n",
       "\n",
       "[169 rows x 6 columns]"
      ]
     },
     "execution_count": 19,
     "metadata": {},
     "output_type": "execute_result"
    }
   ],
   "source": [
    "df[df[\"col\"] != 0] #all colisions"
   ]
  },
  {
   "cell_type": "code",
   "execution_count": 20,
   "metadata": {},
   "outputs": [
    {
     "data": {
      "text/html": [
       "<div>\n",
       "<style scoped>\n",
       "    .dataframe tbody tr th:only-of-type {\n",
       "        vertical-align: middle;\n",
       "    }\n",
       "\n",
       "    .dataframe tbody tr th {\n",
       "        vertical-align: top;\n",
       "    }\n",
       "\n",
       "    .dataframe thead th {\n",
       "        text-align: right;\n",
       "    }\n",
       "</style>\n",
       "<table border=\"1\" class=\"dataframe\">\n",
       "  <thead>\n",
       "    <tr style=\"text-align: right;\">\n",
       "      <th></th>\n",
       "      <th>col</th>\n",
       "      <th>fde</th>\n",
       "      <th>ade</th>\n",
       "    </tr>\n",
       "    <tr>\n",
       "      <th>sigma</th>\n",
       "      <th></th>\n",
       "      <th></th>\n",
       "      <th></th>\n",
       "    </tr>\n",
       "  </thead>\n",
       "  <tbody>\n",
       "    <tr>\n",
       "      <th>0.000</th>\n",
       "      <td>0.040725</td>\n",
       "      <td>1.144239</td>\n",
       "      <td>0.530816</td>\n",
       "    </tr>\n",
       "    <tr>\n",
       "      <th>0.004</th>\n",
       "      <td>0.007954</td>\n",
       "      <td>1.147034</td>\n",
       "      <td>0.533198</td>\n",
       "    </tr>\n",
       "    <tr>\n",
       "      <th>0.008</th>\n",
       "      <td>0.003500</td>\n",
       "      <td>1.151888</td>\n",
       "      <td>0.536585</td>\n",
       "    </tr>\n",
       "    <tr>\n",
       "      <th>0.012</th>\n",
       "      <td>0.001273</td>\n",
       "      <td>1.155852</td>\n",
       "      <td>0.541811</td>\n",
       "    </tr>\n",
       "    <tr>\n",
       "      <th>0.016</th>\n",
       "      <td>0.000000</td>\n",
       "      <td>1.167330</td>\n",
       "      <td>0.548698</td>\n",
       "    </tr>\n",
       "    <tr>\n",
       "      <th>0.020</th>\n",
       "      <td>0.000318</td>\n",
       "      <td>1.180124</td>\n",
       "      <td>0.558485</td>\n",
       "    </tr>\n",
       "  </tbody>\n",
       "</table>\n",
       "</div>"
      ],
      "text/plain": [
       "            col       fde       ade\n",
       "sigma                              \n",
       "0.000  0.040725  1.144239  0.530816\n",
       "0.004  0.007954  1.147034  0.533198\n",
       "0.008  0.003500  1.151888  0.536585\n",
       "0.012  0.001273  1.155852  0.541811\n",
       "0.016  0.000000  1.167330  0.548698\n",
       "0.020  0.000318  1.180124  0.558485"
      ]
     },
     "execution_count": 20,
     "metadata": {},
     "output_type": "execute_result"
    }
   ],
   "source": [
    "df_mean = df.groupby(\"sigma\")[[\"col\", \"fde\", \"ade\"]].mean()\n",
    "df_mean"
   ]
  },
  {
   "cell_type": "code",
   "execution_count": 21,
   "metadata": {},
   "outputs": [
    {
     "data": {
      "image/png": "[encoded data removed]",
      "text/plain": [
       "<Figure size 640x480 with 1 Axes>"
      ]
     },
     "metadata": {},
     "output_type": "display_data"
    }
   ],
   "source": [
    "x = df_mean[\"col\"]*100\n",
    "y = df_mean[\"fde\"]\n",
    "plt.plot(x, y, label=\"Different noise level\")\n",
    "plt.ylabel(\"fde\")\n",
    "plt.xlabel(\"colision rate [%]\")\n",
    "\n",
    "plt.ylim(top = 1.185)\n",
    "plt.xlim(right = 4.5)\n",
    "\n",
    "#plt.axvline(0, color = \"k\")\n",
    "\n",
    "plt.legend()\n",
    "\n",
    "\n",
    "\n",
    "for i, (x,y) in enumerate(zip(x,y)):\n",
    "\n",
    "    label = str(df_mean.index[i])\n",
    "\n",
    "    plt.annotate(label, # this is the text\n",
    "                 (x,y), # these are the coordinates to position the label\n",
    "                 textcoords=\"offset points\", # how to position the text\n",
    "                 xytext=(30,5), # distance from text to points (x,y)\n",
    "                 ha='right')"
   ]
  },
  {
   "cell_type": "code",
   "execution_count": 22,
   "metadata": {},
   "outputs": [
    {
     "data": {
      "image/png": "[encoded data removed]",
      "text/plain": [
       "<Figure size 640x480 with 1 Axes>"
      ]
     },
     "metadata": {},
     "output_type": "display_data"
    }
   ],
   "source": [
    "x1 = df_mean[\"col\"]*100\n",
    "y1 = df_mean[\"ade\"]\n",
    "plt.plot(x1, y1, label=\"Different noise level\")\n",
    "plt.ylabel(\"ade\")\n",
    "plt.xlabel(\"colision rate [%]\")\n",
    "\n",
    "plt.ylim(top = 0.561)\n",
    "plt.xlim(right = 4.5)\n",
    "\n",
    "#plt.axvline(0, color = \"k\")\n",
    "\n",
    "plt.legend()\n",
    "\n",
    "for i, (x1,y1) in enumerate(zip(x1,y1)):\n",
    "\n",
    "    label = str(df_mean.index[i])\n",
    "\n",
    "    plt.annotate(label, # this is the text\n",
    "                 (x1,y1), # these are the coordinates to position the label\n",
    "                 textcoords=\"offset points\", # how to position the text\n",
    "                 xytext=(30,5), # distance from text to points (x,y)\n",
    "                 ha='right')"
   ]
  }
 ],
 "metadata": {
  "kernelspec": {
   "display_name": "Python 3",
   "language": "python",
   "name": "python3"
  },
  "language_info": {
   "codemirror_mode": {
    "name": "ipython",
    "version": 3
   },
   "file_extension": ".py",
   "mimetype": "text/x-python",
   "name": "python",
   "nbconvert_exporter": "python",
   "pygments_lexer": "ipython3",
   "version": "3.10.7"
  },
  "orig_nbformat": 4
 },
 "nbformat": 4,
 "nbformat_minor": 2
}
