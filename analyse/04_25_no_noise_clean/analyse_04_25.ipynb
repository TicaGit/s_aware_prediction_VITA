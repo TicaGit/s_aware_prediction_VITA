{
 "cells": [
  {
   "attachments": {},
   "cell_type": "markdown",
   "metadata": {},
   "source": [
    "## Information on **Analyse of data, IA crowd check** :\n",
    "\n",
    "The numbers still don't match. To be sure that the data used is not corupted, I ran another series of tests. Here, we just care about the raw numbers, without any noise added on the observation trajectories.\n",
    "\n",
    "The numbers I was trying to get on were : ade=0.57 ade=1.22 and CR=7.3%. Under each title, a quick description of the code used is provided.\n",
    "\n",
    "The importants things I discovered during this experiment are the following.  \n",
    "First, the definition used here (like in the [s-attack repo](https://github.com/vita-epfl/s-attack)) is not the same as the one used for the [IA crowd submission](https://www.aicrowd.com/challenges/trajnet-a-trajectory-forecasting-challenge).\n",
    "Second, the numbers ade=0.57, fde=1.22 and CR=7.3% (in blue) only considers type-III scenes (Interacting). The one I am allways reporting considers all scene of the dataset (in red). Thus, the final numbers coresponding to the whole test set are ade=0.53 ade=1.14 and CR=4.96%. These number were verified with an IA crowd submission.\n",
    "\n",
    "### Code : \n",
    "\n",
    "To generate those data, the file *random_smooth\\test_no_noise.py* was used. To run the code, a bash script named *run_no_noise_test.bat* can be launched (on windows). Moreover, the files *evaluator\\trajnet_evaluator.py* and *evaluator\\write.py* were used to generate the data in the format accepted by IA crowed.\n"
   ]
  },
  {
   "attachments": {},
   "cell_type": "markdown",
   "metadata": {},
   "source": [
    "IA crowd submission :\n",
    "\n",
    "![IA_crowd_submission](../../figures_readme/IA_crowd_sub.png)"
   ]
  },
  {
   "cell_type": "code",
   "execution_count": 1,
   "metadata": {},
   "outputs": [],
   "source": [
    "import pandas as pd"
   ]
  },
  {
   "attachments": {},
   "cell_type": "markdown",
   "metadata": {},
   "source": [
    "## train\n",
    "\n",
    "I tried first on the training set. Correct nan's, s-attack colision."
   ]
  },
  {
   "cell_type": "code",
   "execution_count": 2,
   "metadata": {},
   "outputs": [
    {
     "name": "stdout",
     "output_type": "stream",
     "text": [
      "no solo (removed):  1\n",
      "num scene of training :  13717\n"
     ]
    },
    {
     "data": {
      "text/plain": [
       "scene_id    1817.856310\n",
       "col            0.103959\n",
       "ade            0.571339\n",
       "fde            1.243320\n",
       "dtype: float64"
      ]
     },
     "execution_count": 2,
     "metadata": {},
     "output_type": "execute_result"
    }
   ],
   "source": [
    "df_train = pd.read_csv(\"data/no_noise_nan_train.txt\", sep=\"\\t\")\n",
    "df_train[\"col\"] = df_train[\"col\"].astype(\"int\")\n",
    "df_train[\"fde\"] = df_train[\"fde\"].astype(\"float\")\n",
    "df_train[\"ade\"] = df_train[\"ade\"].astype(\"float\");\n",
    "print(\"no solo (removed): \", df_train[df_train[\"col\"] == -1][\"col\"].count())\n",
    "df_train = df_train[df_train[\"col\"] != -1] #remoove solo\n",
    "\n",
    "print(\"num scene of training : \", df_train.shape[0])\n",
    "df_train.mean() \n",
    "# 10% of CR\n"
   ]
  },
  {
   "attachments": {},
   "cell_type": "markdown",
   "metadata": {},
   "source": [
    "## test\n",
    "\n",
    "On the test set. Correct nan's, s-attack colision."
   ]
  },
  {
   "cell_type": "code",
   "execution_count": 3,
   "metadata": {},
   "outputs": [
    {
     "name": "stdout",
     "output_type": "stream",
     "text": [
      "no solo (removed):  33\n",
      "num scene of test :  3113\n"
     ]
    },
    {
     "data": {
      "text/plain": [
       "scene_id    712.726309\n",
       "col           0.035336\n",
       "ade           4.672797\n",
       "fde           4.498527\n",
       "dtype: float64"
      ]
     },
     "execution_count": 3,
     "metadata": {},
     "output_type": "execute_result"
    }
   ],
   "source": [
    "df_test = pd.read_csv(\"data/no_noise_nan_test.txt\", sep=\"\\t\")\n",
    "df_test[\"col\"] = df_test[\"col\"].astype(\"int\")\n",
    "df_test[\"fde\"] = df_test[\"fde\"].astype(\"float\")\n",
    "df_test[\"ade\"] = df_test[\"ade\"].astype(\"float\");\n",
    "print(\"no solo (removed): \", df_test[df_test[\"col\"] == -1][\"col\"].count())\n",
    "df_test = df_test[df_test[\"col\"] != -1]\n",
    "print(\"num scene of test : \", df_test.shape[0])\n",
    "df_test.mean()\n",
    "#note : ade/fde make no sense bc no pred for test set"
   ]
  },
  {
   "attachments": {},
   "cell_type": "markdown",
   "metadata": {},
   "source": [
    "## THIS : test private (first sent, has prediction)\n",
    "\n",
    "On the private test set. Correct nan's, s-attack colision. We can see the ade/fde are the correct values for the whole dataset.\n",
    "\n",
    "This is the correct numbers if one wants to use s-attack colision definition."
   ]
  },
  {
   "cell_type": "code",
   "execution_count": 4,
   "metadata": {},
   "outputs": [
    {
     "name": "stdout",
     "output_type": "stream",
     "text": [
      "no solo (removed):  3\n",
      "num scene of private(v1) :  3143\n"
     ]
    },
    {
     "data": {
      "text/plain": [
       "scene_id    710.332167\n",
       "col           0.040725\n",
       "ade           0.530795\n",
       "fde           1.144202\n",
       "dtype: float64"
      ]
     },
     "execution_count": 4,
     "metadata": {},
     "output_type": "execute_result"
    }
   ],
   "source": [
    "df_secret = pd.read_csv(\"data/no_noise_nan_secret.txt\", sep=\"\\t\")\n",
    "df_secret[\"col\"] = df_secret[\"col\"].astype(\"int\")\n",
    "df_secret[\"fde\"] = df_secret[\"fde\"].astype(\"float\")\n",
    "df_secret[\"ade\"] = df_secret[\"ade\"].astype(\"float\");\n",
    "print(\"no solo (removed): \", df_secret[df_secret[\"col\"] == -1][\"col\"].count())\n",
    "df_secret = df_secret[df_secret[\"col\"] != -1]\n",
    "print(\"num scene of private(v1) : \", df_secret.shape[0])\n",
    "df_secret.mean()"
   ]
  },
  {
   "attachments": {},
   "cell_type": "markdown",
   "metadata": {},
   "source": [
    "## test private (first sent), with only obs data (pred are cut)\n",
    "\n",
    "we see its the same as test or private v2... it's just that we have the ground truth for test_private.\n",
    "\n",
    "Also, we note that the way of cutting the ground truth lead to another CR number, but it should only impact ade/fde, as the CR is only impacted by the prediction from the observation trajectories, and in no way by the ground truth.  \n",
    "I concluded that cutting the ground truth led to a different preprocessing of the scenes (e.g. the agents that only appears during the ground truth are not considered when using drop_distant())."
   ]
  },
  {
   "cell_type": "code",
   "execution_count": 5,
   "metadata": {},
   "outputs": [
    {
     "name": "stdout",
     "output_type": "stream",
     "text": [
      "no solo (removed):  33\n",
      "num scene of private(v2) :  3113\n"
     ]
    },
    {
     "data": {
      "text/plain": [
       "scene_id    712.726309\n",
       "col           0.035336\n",
       "ade           4.672797\n",
       "fde           4.498527\n",
       "dtype: float64"
      ]
     },
     "execution_count": 5,
     "metadata": {},
     "output_type": "execute_result"
    }
   ],
   "source": [
    "df_secret_obs = pd.read_csv(\"data/no_noise_secret_obs.txt\", sep=\"\\t\")\n",
    "df_secret_obs[\"col\"] = df_secret_obs[\"col\"].astype(\"int\")\n",
    "df_secret_obs[\"fde\"] = df_secret_obs[\"fde\"].astype(\"float\")\n",
    "df_secret_obs[\"ade\"] = df_secret_obs[\"ade\"].astype(\"float\");\n",
    "print(\"no solo (removed): \", df_secret_obs[df_secret_obs[\"col\"] == -1][\"col\"].count())\n",
    "df_secret_obs = df_secret_obs[df_secret_obs[\"col\"] != -1]\n",
    "print(\"num scene of private(v2) : \", df_secret_obs.shape[0])\n",
    "df_secret_obs.mean()"
   ]
  },
  {
   "attachments": {},
   "cell_type": "markdown",
   "metadata": {},
   "source": [
    "## test private (second sent, same as test)\n",
    "\n",
    "I had 2 test private... turns out the second one was only test, without the ground truth."
   ]
  },
  {
   "cell_type": "code",
   "execution_count": 6,
   "metadata": {},
   "outputs": [
    {
     "name": "stdout",
     "output_type": "stream",
     "text": [
      "no solo (removed):  33\n",
      "num scene of private(v2) :  3113\n"
     ]
    },
    {
     "data": {
      "text/plain": [
       "scene_id    712.726309\n",
       "col           0.035336\n",
       "ade           4.672797\n",
       "fde           4.498527\n",
       "dtype: float64"
      ]
     },
     "execution_count": 6,
     "metadata": {},
     "output_type": "execute_result"
    }
   ],
   "source": [
    "df_secret2 = pd.read_csv(\"data/no_noise_nan_secret2.txt\", sep=\"\\t\")\n",
    "df_secret2[\"col\"] = df_secret2[\"col\"].astype(\"int\")\n",
    "df_secret2[\"fde\"] = df_secret2[\"fde\"].astype(\"float\")\n",
    "df_secret2[\"ade\"] = df_secret2[\"ade\"].astype(\"float\");\n",
    "print(\"no solo (removed): \", df_secret2[df_secret2[\"col\"] == -1][\"col\"].count())\n",
    "df_secret2 = df_secret2[df_secret2[\"col\"] != -1]\n",
    "print(\"num scene of private(v2) : \", df_secret2.shape[0])\n",
    "df_secret2.mean()"
   ]
  },
  {
   "attachments": {},
   "cell_type": "markdown",
   "metadata": {},
   "source": [
    "## try with 1000 first\n",
    "\n",
    "Trying to get those numbers...\n"
   ]
  },
  {
   "cell_type": "code",
   "execution_count": 7,
   "metadata": {},
   "outputs": [
    {
     "name": "stdout",
     "output_type": "stream",
     "text": [
      "num scene :  1000\n"
     ]
    },
    {
     "data": {
      "text/plain": [
       "scene_id    173.693000\n",
       "col           0.015000\n",
       "ade           5.340527\n",
       "fde           5.212663\n",
       "dtype: float64"
      ]
     },
     "execution_count": 7,
     "metadata": {},
     "output_type": "execute_result"
    }
   ],
   "source": [
    "df_test_1000 = df_test.iloc[:1000]\n",
    "print(\"num scene : \", df_test_1000.shape[0])\n",
    "df_test_1000.mean()\n"
   ]
  },
  {
   "cell_type": "code",
   "execution_count": 8,
   "metadata": {},
   "outputs": [
    {
     "name": "stdout",
     "output_type": "stream",
     "text": [
      "num scene :  1000\n"
     ]
    },
    {
     "data": {
      "text/plain": [
       "scene_id    173.693000\n",
       "col           0.015000\n",
       "ade           5.340527\n",
       "fde           5.212663\n",
       "dtype: float64"
      ]
     },
     "execution_count": 8,
     "metadata": {},
     "output_type": "execute_result"
    }
   ],
   "source": [
    "df_test_1000 = df_secret2.iloc[:1000]\n",
    "print(\"num scene : \", df_test_1000.shape[0])\n",
    "df_test_1000.mean()"
   ]
  },
  {
   "attachments": {},
   "cell_type": "markdown",
   "metadata": {},
   "source": [
    "## try with 0.3 col tresh\n",
    "\n",
    "Trying to get those numbers..."
   ]
  },
  {
   "cell_type": "code",
   "execution_count": 9,
   "metadata": {},
   "outputs": [
    {
     "name": "stdout",
     "output_type": "stream",
     "text": [
      "no solo (removed):  3\n",
      "num scene of private(v2) :  3143\n"
     ]
    },
    {
     "data": {
      "text/plain": [
       "scene_id    710.332167\n",
       "col           0.086223\n",
       "ade           0.530795\n",
       "fde           1.144202\n",
       "dtype: float64"
      ]
     },
     "execution_count": 9,
     "metadata": {},
     "output_type": "execute_result"
    }
   ],
   "source": [
    "df_03col = pd.read_csv(\"data/no_noise_secret_0_3_col_tresh.txt\", sep=\"\\t\")\n",
    "df_03col[\"col\"] = df_03col[\"col\"].astype(\"int\")\n",
    "df_03col[\"fde\"] = df_03col[\"fde\"].astype(\"float\")\n",
    "df_03col[\"ade\"] = df_03col[\"ade\"].astype(\"float\");\n",
    "print(\"no solo (removed): \", df_03col[df_03col[\"col\"] == -1][\"col\"].count())\n",
    "df_03col = df_03col[df_03col[\"col\"] != -1]\n",
    "print(\"num scene of private(v2) : \", df_03col.shape[0])\n",
    "df_03col.mean()"
   ]
  },
  {
   "attachments": {},
   "cell_type": "markdown",
   "metadata": {},
   "source": [
    "## with synth data \n",
    "\n",
    "Dataset downloaded on AIcrowd. Not relevant.\n"
   ]
  },
  {
   "cell_type": "code",
   "execution_count": 10,
   "metadata": {},
   "outputs": [
    {
     "name": "stdout",
     "output_type": "stream",
     "text": [
      "no solo (removed):  154\n",
      "num scene of private(v2) :  3803\n"
     ]
    },
    {
     "data": {
      "text/plain": [
       "scene_id    1975.676308\n",
       "col            0.067315\n",
       "ade            4.150014\n",
       "fde            3.914872\n",
       "dtype: float64"
      ]
     },
     "execution_count": 10,
     "metadata": {},
     "output_type": "execute_result"
    }
   ],
   "source": [
    "df_synth = pd.read_csv(\"data/synth.txt\", sep=\"\\t\")\n",
    "df_synth[\"col\"] = df_synth[\"col\"].astype(\"int\")\n",
    "df_synth[\"fde\"] = df_synth[\"fde\"].astype(\"float\")\n",
    "df_synth[\"ade\"] = df_synth[\"ade\"].astype(\"float\");\n",
    "print(\"no solo (removed): \", df_synth[df_synth[\"col\"] == -1][\"col\"].count())\n",
    "df_synth = df_synth[df_synth[\"col\"] != -1]\n",
    "print(\"num scene of private(v2) : \", df_synth.shape[0])\n",
    "df_synth.mean()"
   ]
  },
  {
   "attachments": {},
   "cell_type": "markdown",
   "metadata": {},
   "source": [
    "## test private, with 0.1 col tresh\n",
    "\n",
    "Trying to get those numbers..."
   ]
  },
  {
   "cell_type": "code",
   "execution_count": 11,
   "metadata": {},
   "outputs": [
    {
     "name": "stdout",
     "output_type": "stream",
     "text": [
      "no solo (removed):  3\n",
      "num scene of private(v2) :  3143\n"
     ]
    },
    {
     "data": {
      "text/plain": [
       "scene_id    710.332167\n",
       "col           0.012090\n",
       "ade           0.530795\n",
       "fde           1.144202\n",
       "dtype: float64"
      ]
     },
     "execution_count": 11,
     "metadata": {},
     "output_type": "execute_result"
    }
   ],
   "source": [
    "df_priv01 = pd.read_csv(\"data/col_tresh_0_1.txt\", sep=\"\\t\")\n",
    "df_priv01[\"col\"] = df_priv01[\"col\"].astype(\"int\")\n",
    "df_priv01[\"fde\"] = df_priv01[\"fde\"].astype(\"float\")\n",
    "df_priv01[\"ade\"] = df_priv01[\"ade\"].astype(\"float\");\n",
    "print(\"no solo (removed): \", df_priv01[df_priv01[\"col\"] == -1][\"col\"].count())\n",
    "df_priv01 = df_priv01[df_priv01[\"col\"] != -1]\n",
    "print(\"num scene of private(v2) : \", df_priv01.shape[0])\n",
    "df_priv01.mean()"
   ]
  },
  {
   "attachments": {},
   "cell_type": "markdown",
   "metadata": {},
   "source": [
    "## test private, drop after obs_lenght\n",
    "\n",
    "Here, I tried to drop the agents that appears after the observation timestep."
   ]
  },
  {
   "cell_type": "code",
   "execution_count": 12,
   "metadata": {},
   "outputs": [
    {
     "name": "stdout",
     "output_type": "stream",
     "text": [
      "no solo (removed):  14\n",
      "num scene of private(v2) :  3132\n"
     ]
    },
    {
     "data": {
      "text/plain": [
       "scene_id    711.675926\n",
       "col           0.040868\n",
       "ade           0.529662\n",
       "fde           1.142804\n",
       "dtype: float64"
      ]
     },
     "execution_count": 12,
     "metadata": {},
     "output_type": "execute_result"
    }
   ],
   "source": [
    "df_drop_obs = pd.read_csv(\"data/drop_obs.txt\", sep=\"\\t\")\n",
    "df_drop_obs[\"col\"] = df_drop_obs[\"col\"].astype(\"int\")\n",
    "df_drop_obs[\"fde\"] = df_drop_obs[\"fde\"].astype(\"float\")\n",
    "df_drop_obs[\"ade\"] = df_drop_obs[\"ade\"].astype(\"float\")\n",
    "print(\"no solo (removed): \", df_drop_obs[df_drop_obs[\"col\"] == -1][\"col\"].count())\n",
    "df_drop_obs = df_drop_obs[df_drop_obs[\"col\"] != -1]\n",
    "#df_drop_obs[df_drop_obs[\"col\"] == -1] = 0 #solo = no_col #other idea -> no diff in col rate \n",
    "print(\"num scene of private(v2) : \", df_drop_obs.shape[0])\n",
    "df_drop_obs.mean()"
   ]
  },
  {
   "attachments": {},
   "cell_type": "markdown",
   "metadata": {},
   "source": [
    "## ----------------------------------------------------------\n",
    "\n",
    "In the following, I noticed that the colision measurement function used was not the same as in *trajnet_evaluator.py* (l.126). In that file, they use the implementation of the *trajnetplusplus* package.\n",
    "\n",
    "I implemented both definition to compare and report the difference in numbers. \n",
    "We found out that the definition of *trajnetplusplus* detect crossing agents as a colision (using interpolation), which is the correct way of doing. These \"new\" collisions detected add on average 1% on the collision rate number."
   ]
  },
  {
   "attachments": {},
   "cell_type": "markdown",
   "metadata": {},
   "source": [
    "## test private, other definition of colision, with drop distant\n",
    "\n",
    "Using test private, and activating drop_distant. With the new collision function. "
   ]
  },
  {
   "cell_type": "code",
   "execution_count": 13,
   "metadata": {},
   "outputs": [
    {
     "name": "stdout",
     "output_type": "stream",
     "text": [
      "no solo (removed):  14\n",
      "diff between num col in methods : 158 - 128 = 30\n",
      "num scene of private(v2) :  3132\n"
     ]
    },
    {
     "data": {
      "text/plain": [
       "scene_id         711.675926\n",
       "col                0.040868\n",
       "col_trajnetpp      0.050447\n",
       "ade                0.529662\n",
       "fde                1.142804\n",
       "dtype: float64"
      ]
     },
     "execution_count": 13,
     "metadata": {},
     "output_type": "execute_result"
    }
   ],
   "source": [
    "df_col_defin = pd.read_csv(\"data/drop_other_col_def.txt\", sep=\"\\t\")\n",
    "df_col_defin[\"col\"] = df_col_defin[\"col\"].astype(\"int\")\n",
    "df_col_defin[\"col_trajnetpp\"] = df_col_defin[\"col_trajnetpp\"].astype(\"int\")\n",
    "df_col_defin[\"fde\"] = df_col_defin[\"fde\"].astype(\"float\")\n",
    "df_col_defin[\"ade\"] = df_col_defin[\"ade\"].astype(\"float\")\n",
    "\n",
    "print(\"no solo (removed): \", df_col_defin[df_col_defin[\"col\"] == -1][\"col\"].count())\n",
    "df_col_defin = df_col_defin[df_col_defin[\"col\"] != -1]\n",
    "# df_col_defin[df_col_defin[\"col\"] == -1] = 0 #solo = no_col #other idea -> no diff in col rate \n",
    "# df_col_defin[df_col_defin[\"col_trajnetpp\"] == -1] = 0 #solo = no_col #other idea -> no diff in col rate \n",
    "\n",
    "\n",
    "print(f\"diff between num col in methods : {df_col_defin[df_col_defin['col_trajnetpp'] == 1]['col_trajnetpp'].count()} - {df_col_defin[df_col_defin['col'] == 1]['col'].count()} = \"+\\\n",
    "      f\"{df_col_defin[df_col_defin['col_trajnetpp'] == 1]['col_trajnetpp'].count() - df_col_defin[df_col_defin['col'] == 1]['col'].count()}\")\n",
    "\n",
    "print(\"num scene of private(v2) : \", df_col_defin.shape[0])\n",
    "df_col_defin.mean()"
   ]
  },
  {
   "attachments": {},
   "cell_type": "markdown",
   "metadata": {},
   "source": [
    "## THIS : test private, other definition of colision without drop distant\n",
    "\n",
    "Using test private, and deactivating drop_distant. With the new collision function. \n",
    "\n",
    "In my opinion, this is the right way of doing. The values of ade/fde and fde match those of the AI crowd submission, and the value of col_trajnetpp is very close."
   ]
  },
  {
   "cell_type": "code",
   "execution_count": 14,
   "metadata": {},
   "outputs": [
    {
     "name": "stdout",
     "output_type": "stream",
     "text": [
      "no solo (removed):  4\n",
      "diff between num col in methods : 148 - 125 = 23\n",
      "num scene of private(v1) :  3142\n"
     ]
    },
    {
     "data": {
      "text/plain": [
       "scene_id         710.763845\n",
       "col                0.039784\n",
       "col_trajnetpp      0.047104\n",
       "ade                0.528053\n",
       "fde                1.138018\n",
       "dtype: float64"
      ]
     },
     "execution_count": 14,
     "metadata": {},
     "output_type": "execute_result"
    }
   ],
   "source": [
    "df_col_defin_no_drop = pd.read_csv(\"data/drop_other_col_no_drop.txt\", sep=\"\\t\")\n",
    "df_col_defin_no_drop[\"col\"] = df_col_defin_no_drop[\"col\"].astype(\"int\")\n",
    "df_col_defin_no_drop[\"col_trajnetpp\"] = df_col_defin_no_drop[\"col_trajnetpp\"].astype(\"int\")\n",
    "df_col_defin_no_drop[\"fde\"] = df_col_defin_no_drop[\"fde\"].astype(\"float\")\n",
    "df_col_defin_no_drop[\"ade\"] = df_col_defin_no_drop[\"ade\"].astype(\"float\")\n",
    "\n",
    "print(\"no solo (removed): \", df_col_defin_no_drop[df_col_defin_no_drop[\"col\"] == -1][\"col\"].count())\n",
    "df_col_defin_no_drop = df_col_defin_no_drop[df_col_defin_no_drop[\"col\"] != -1]\n",
    "# df_col_defin_no_drop[df_col_defin_no_drop[\"col\"] == -1] = 0 #solo = no_col #other idea -> no diff in col rate \n",
    "# df_col_defin_no_drop[df_col_defin_no_drop[\"col_trajnetpp\"] == -1] = 0 #solo = no_col #other idea -> no diff in col rate \n",
    "\n",
    "\n",
    "print(f\"diff between num col in methods : {df_col_defin_no_drop[df_col_defin_no_drop['col_trajnetpp'] == 1]['col_trajnetpp'].count()} - {df_col_defin_no_drop[df_col_defin_no_drop['col'] == 1]['col'].count()} = \"+\\\n",
    "      f\"{df_col_defin_no_drop[df_col_defin_no_drop['col_trajnetpp'] == 1]['col_trajnetpp'].count() - df_col_defin_no_drop[df_col_defin_no_drop['col'] == 1]['col'].count()}\")\n",
    "\n",
    "print(\"num scene of private(v1) : \", df_col_defin_no_drop.shape[0])\n",
    "df_col_defin_no_drop.mean()"
   ]
  },
  {
   "attachments": {},
   "cell_type": "markdown",
   "metadata": {},
   "source": [
    "## THIS : test, other definition, without drop distant\n",
    "\n",
    "Same as above, but with the test set. "
   ]
  },
  {
   "cell_type": "code",
   "execution_count": 15,
   "metadata": {},
   "outputs": [
    {
     "name": "stdout",
     "output_type": "stream",
     "text": [
      "no solo (removed):  4\n",
      "diff between num col in methods : 148 - 125 = 23\n",
      "num scene of test :  3142\n"
     ]
    },
    {
     "data": {
      "text/plain": [
       "scene_id         710.763845\n",
       "col                0.039784\n",
       "col_trajnetpp      0.047104\n",
       "ade                4.661320\n",
       "fde                4.494800\n",
       "dtype: float64"
      ]
     },
     "execution_count": 15,
     "metadata": {},
     "output_type": "execute_result"
    }
   ],
   "source": [
    "df_col_test_def = pd.read_csv(\"data/drop_test_other_def.txt\", sep=\"\\t\")\n",
    "df_col_test_def[\"col\"] = df_col_test_def[\"col\"].astype(\"int\")\n",
    "df_col_test_def[\"col_trajnetpp\"] = df_col_test_def[\"col_trajnetpp\"].astype(\"int\")\n",
    "df_col_test_def[\"fde\"] = df_col_test_def[\"fde\"].astype(\"float\")\n",
    "df_col_test_def[\"ade\"] = df_col_test_def[\"ade\"].astype(\"float\")\n",
    "\n",
    "print(\"no solo (removed): \", df_col_test_def[df_col_test_def[\"col\"] == -1][\"col\"].count())\n",
    "df_col_test_def = df_col_test_def[df_col_test_def[\"col\"] != -1]\n",
    "# df_col_defin_no_drop[df_col_defin_no_drop[\"col\"] == -1] = 0 #solo = no_col #other idea -> no diff in col rate \n",
    "# df_col_defin_no_drop[df_col_defin_no_drop[\"col_trajnetpp\"] == -1] = 0 #solo = no_col #other idea -> no diff in col rate \n",
    "\n",
    "\n",
    "print(f\"diff between num col in methods : {df_col_test_def[df_col_test_def['col_trajnetpp'] == 1]['col_trajnetpp'].count()} - {df_col_test_def[df_col_test_def['col'] == 1]['col'].count()} = \"+\\\n",
    "      f\"{df_col_test_def[df_col_test_def['col_trajnetpp'] == 1]['col_trajnetpp'].count() - df_col_test_def[df_col_test_def['col'] == 1]['col'].count()}\")\n",
    "\n",
    "print(\"num scene of test : \", df_col_test_def.shape[0])\n",
    "df_col_test_def.mean()"
   ]
  },
  {
   "attachments": {},
   "cell_type": "markdown",
   "metadata": {},
   "source": [
    "## test, other definition, with drop distant"
   ]
  },
  {
   "cell_type": "code",
   "execution_count": 16,
   "metadata": {},
   "outputs": [
    {
     "name": "stdout",
     "output_type": "stream",
     "text": [
      "no solo (removed):  33\n",
      "diff between num col in methods : 120 - 110 = 10\n",
      "num scene of test :  3113\n"
     ]
    },
    {
     "data": {
      "text/plain": [
       "scene_id         712.726309\n",
       "col                0.035336\n",
       "col_trajnetpp      0.038548\n",
       "ade                4.672797\n",
       "fde                4.498527\n",
       "dtype: float64"
      ]
     },
     "execution_count": 16,
     "metadata": {},
     "output_type": "execute_result"
    }
   ],
   "source": [
    "df_col_test_def_drop = pd.read_csv(\"data/test_other_def_with_drop.txt\", sep=\"\\t\")\n",
    "df_col_test_def_drop[\"col\"] = df_col_test_def_drop[\"col\"].astype(\"int\")\n",
    "df_col_test_def_drop[\"col_trajnetpp\"] = df_col_test_def_drop[\"col_trajnetpp\"].astype(\"int\")\n",
    "df_col_test_def_drop[\"fde\"] = df_col_test_def_drop[\"fde\"].astype(\"float\")\n",
    "df_col_test_def_drop[\"ade\"] = df_col_test_def_drop[\"ade\"].astype(\"float\")\n",
    "\n",
    "print(\"no solo (removed): \", df_col_test_def_drop[df_col_test_def_drop[\"col\"] == -1][\"col\"].count())\n",
    "df_col_test_def_drop = df_col_test_def_drop[df_col_test_def_drop[\"col\"] != -1]\n",
    "# df_col_test_def_drop[df_col_test_def_drop[\"col\"] == -1] = 0 #solo = no_col #other idea -> no diff in col rate \n",
    "# df_col_test_def_drop[df_col_test_def_drop[\"col_trajnetpp\"] == -1] = 0 #solo = no_col #other idea -> no diff in col rate \n",
    "\n",
    "\n",
    "print(f\"diff between num col in methods : {df_col_test_def_drop[df_col_test_def_drop['col_trajnetpp'] == 1]['col_trajnetpp'].count()} - {df_col_test_def_drop[df_col_test_def_drop['col'] == 1]['col'].count()} = \"+\\\n",
    "      f\"{df_col_test_def_drop[df_col_test_def_drop['col_trajnetpp'] == 1]['col_trajnetpp'].count() - df_col_test_def_drop[df_col_test_def_drop['col'] == 1]['col'].count()}\")\n",
    "\n",
    "print(\"num scene of test : \", df_col_test_def_drop.shape[0])\n",
    "df_col_test_def_drop.mean()"
   ]
  },
  {
   "cell_type": "code",
   "execution_count": 17,
   "metadata": {},
   "outputs": [
    {
     "data": {
      "text/plain": [
       "scene_id         26\n",
       "col              26\n",
       "col_trajnetpp    26\n",
       "ade              26\n",
       "fde              26\n",
       "dtype: int64"
      ]
     },
     "execution_count": 17,
     "metadata": {},
     "output_type": "execute_result"
    }
   ],
   "source": [
    "#not all the same are detected -> weird : the number of collision differ of 10, but 26 are different from one another.\n",
    "\n",
    "df_col_test_def_drop[df_col_test_def_drop[\"col_trajnetpp\"] != df_col_test_def_drop[\"col\"]].count()"
   ]
  }
 ],
 "metadata": {
  "kernelspec": {
   "display_name": "Python 3",
   "language": "python",
   "name": "python3"
  },
  "language_info": {
   "codemirror_mode": {
    "name": "ipython",
    "version": 3
   },
   "file_extension": ".py",
   "mimetype": "text/x-python",
   "name": "python",
   "nbconvert_exporter": "python",
   "pygments_lexer": "ipython3",
   "version": "3.10.7"
  },
  "orig_nbformat": 4
 },
 "nbformat": 4,
 "nbformat_minor": 2
}
