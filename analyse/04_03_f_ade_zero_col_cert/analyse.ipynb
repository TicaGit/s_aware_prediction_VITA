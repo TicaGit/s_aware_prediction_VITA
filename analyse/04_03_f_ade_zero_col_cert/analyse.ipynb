{
 "cells": [
  {
   "cell_type": "code",
   "execution_count": 1,
   "metadata": {},
   "outputs": [],
   "source": [
    "import pandas as pd\n",
    "import matplotlib.pyplot as plt\n",
    "import seaborn as sns\n",
    "\n",
    "sns.set_style(\"whitegrid\")"
   ]
  },
  {
   "cell_type": "code",
   "execution_count": 2,
   "metadata": {},
   "outputs": [],
   "source": [
    "df_001 = pd.read_csv(\"data/results_ade_fde_0.01.txt\", sep ='\\t')\n",
    "df_001[\"sig\"] = 0.01\n",
    "\n",
    "df_004 = pd.read_csv(\"data/results_ade_fde_0.04.txt\", sep ='\\t')\n",
    "df_004[\"sig\"] = 0.04\n",
    "\n",
    "df_007 = pd.read_csv(\"data/results_ade_fde_0.07.txt\", sep ='\\t')\n",
    "df_007[\"sig\"] = 0.07\n",
    "\n",
    "df_010 = pd.read_csv(\"data/results_ade_fde_0.1.txt\", sep ='\\t')\n",
    "df_010[\"sig\"] = 0.1\n",
    "\n",
    "df = pd.concat((df_001, df_004, df_007, df_010), ignore_index= True)"
   ]
  },
  {
   "cell_type": "code",
   "execution_count": 3,
   "metadata": {},
   "outputs": [
    {
     "data": {
      "text/html": [
       "<div>\n",
       "<style scoped>\n",
       "    .dataframe tbody tr th:only-of-type {\n",
       "        vertical-align: middle;\n",
       "    }\n",
       "\n",
       "    .dataframe tbody tr th {\n",
       "        vertical-align: top;\n",
       "    }\n",
       "\n",
       "    .dataframe thead th {\n",
       "        text-align: right;\n",
       "    }\n",
       "</style>\n",
       "<table border=\"1\" class=\"dataframe\">\n",
       "  <thead>\n",
       "    <tr style=\"text-align: right;\">\n",
       "      <th></th>\n",
       "      <th>idx</th>\n",
       "      <th>fde</th>\n",
       "      <th>ade</th>\n",
       "      <th>sig</th>\n",
       "    </tr>\n",
       "  </thead>\n",
       "  <tbody>\n",
       "    <tr>\n",
       "      <th>0</th>\n",
       "      <td>0</td>\n",
       "      <td>0.574762</td>\n",
       "      <td>0.154339</td>\n",
       "      <td>0.01</td>\n",
       "    </tr>\n",
       "    <tr>\n",
       "      <th>1</th>\n",
       "      <td>1</td>\n",
       "      <td>0.819112</td>\n",
       "      <td>0.206101</td>\n",
       "      <td>0.01</td>\n",
       "    </tr>\n",
       "    <tr>\n",
       "      <th>2</th>\n",
       "      <td>2</td>\n",
       "      <td>0.604904</td>\n",
       "      <td>0.158469</td>\n",
       "      <td>0.01</td>\n",
       "    </tr>\n",
       "    <tr>\n",
       "      <th>3</th>\n",
       "      <td>3</td>\n",
       "      <td>0.991208</td>\n",
       "      <td>0.262938</td>\n",
       "      <td>0.01</td>\n",
       "    </tr>\n",
       "    <tr>\n",
       "      <th>4</th>\n",
       "      <td>4</td>\n",
       "      <td>0.582033</td>\n",
       "      <td>0.148420</td>\n",
       "      <td>0.01</td>\n",
       "    </tr>\n",
       "    <tr>\n",
       "      <th>...</th>\n",
       "      <td>...</td>\n",
       "      <td>...</td>\n",
       "      <td>...</td>\n",
       "      <td>...</td>\n",
       "    </tr>\n",
       "    <tr>\n",
       "      <th>394</th>\n",
       "      <td>95</td>\n",
       "      <td>1.315286</td>\n",
       "      <td>0.415736</td>\n",
       "      <td>0.10</td>\n",
       "    </tr>\n",
       "    <tr>\n",
       "      <th>395</th>\n",
       "      <td>96</td>\n",
       "      <td>3.618747</td>\n",
       "      <td>1.195017</td>\n",
       "      <td>0.10</td>\n",
       "    </tr>\n",
       "    <tr>\n",
       "      <th>396</th>\n",
       "      <td>97</td>\n",
       "      <td>1.436941</td>\n",
       "      <td>0.382911</td>\n",
       "      <td>0.10</td>\n",
       "    </tr>\n",
       "    <tr>\n",
       "      <th>397</th>\n",
       "      <td>98</td>\n",
       "      <td>0.965945</td>\n",
       "      <td>0.360719</td>\n",
       "      <td>0.10</td>\n",
       "    </tr>\n",
       "    <tr>\n",
       "      <th>398</th>\n",
       "      <td>99</td>\n",
       "      <td>0.782693</td>\n",
       "      <td>0.175141</td>\n",
       "      <td>0.10</td>\n",
       "    </tr>\n",
       "  </tbody>\n",
       "</table>\n",
       "<p>399 rows × 4 columns</p>\n",
       "</div>"
      ],
      "text/plain": [
       "     idx       fde       ade   sig\n",
       "0      0  0.574762  0.154339  0.01\n",
       "1      1  0.819112  0.206101  0.01\n",
       "2      2  0.604904  0.158469  0.01\n",
       "3      3  0.991208  0.262938  0.01\n",
       "4      4  0.582033  0.148420  0.01\n",
       "..   ...       ...       ...   ...\n",
       "394   95  1.315286  0.415736  0.10\n",
       "395   96  3.618747  1.195017  0.10\n",
       "396   97  1.436941  0.382911  0.10\n",
       "397   98  0.965945  0.360719  0.10\n",
       "398   99  0.782693  0.175141  0.10\n",
       "\n",
       "[399 rows x 4 columns]"
      ]
     },
     "execution_count": 3,
     "metadata": {},
     "output_type": "execute_result"
    }
   ],
   "source": [
    "df"
   ]
  },
  {
   "cell_type": "code",
   "execution_count": 4,
   "metadata": {},
   "outputs": [
    {
     "data": {
      "text/plain": [
       "Text(0.5, 1.0, 'FDE')"
      ]
     },
     "execution_count": 4,
     "metadata": {},
     "output_type": "execute_result"
    },
    {
     "data": {
      "image/png": "[encoded data removed]",
      "text/plain": [
       "<Figure size 640x480 with 1 Axes>"
      ]
     },
     "metadata": {},
     "output_type": "display_data"
    }
   ],
   "source": [
    "#df.boxplot(column= \"fde\", by = \"sig\")\n",
    "sns.boxplot(x = 'sig', y = 'fde', data = df)\n",
    "plt.title(\"FDE\")"
   ]
  },
  {
   "cell_type": "code",
   "execution_count": 5,
   "metadata": {},
   "outputs": [
    {
     "data": {
      "text/plain": [
       "<AxesSubplot:title={'center':'ADE'}, xlabel='sig', ylabel='ade'>"
      ]
     },
     "execution_count": 5,
     "metadata": {},
     "output_type": "execute_result"
    },
    {
     "data": {
      "image/png": "[encoded data removed]",
      "text/plain": [
       "<Figure size 640x480 with 1 Axes>"
      ]
     },
     "metadata": {},
     "output_type": "display_data"
    }
   ],
   "source": [
    "#df.boxplot(column= \"ade\", by = \"sig\")\n",
    "plt.title(\"ADE\")\n",
    "sns.boxplot(x = 'sig', y = 'ade', data = df)"
   ]
  },
  {
   "cell_type": "code",
   "execution_count": 6,
   "metadata": {},
   "outputs": [],
   "source": [
    "mean_ade = df.groupby(\"sig\")[\"ade\"].mean()\n",
    "med_ade = df.groupby(\"sig\")[\"ade\"].median()\n",
    "\n",
    "mean_fde = df.groupby(\"sig\")[\"fde\"].mean()\n",
    "med_fde = df.groupby(\"sig\")[\"fde\"].median()\n"
   ]
  },
  {
   "cell_type": "code",
   "execution_count": 7,
   "metadata": {},
   "outputs": [
    {
     "data": {
      "text/plain": [
       "sig\n",
       "0.01    1.239221\n",
       "0.04    1.289106\n",
       "0.07    1.361707\n",
       "0.10    1.380268\n",
       "Name: fde, dtype: float64"
      ]
     },
     "execution_count": 7,
     "metadata": {},
     "output_type": "execute_result"
    }
   ],
   "source": [
    "mean_fde"
   ]
  }
 ],
 "metadata": {
  "kernelspec": {
   "display_name": "Python 3",
   "language": "python",
   "name": "python3"
  },
  "language_info": {
   "codemirror_mode": {
    "name": "ipython",
    "version": 3
   },
   "file_extension": ".py",
   "mimetype": "text/x-python",
   "name": "python",
   "nbconvert_exporter": "python",
   "pygments_lexer": "ipython3",
   "version": "3.10.7"
  },
  "orig_nbformat": 4
 },
 "nbformat": 4,
 "nbformat_minor": 2
}
