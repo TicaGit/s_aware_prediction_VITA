{
 "cells": [
  {
   "cell_type": "code",
   "execution_count": 1,
   "metadata": {},
   "outputs": [],
   "source": [
    "import pandas as pd\n",
    "import numpy as np\n",
    "import matplotlib.pyplot as plt"
   ]
  },
  {
   "attachments": {},
   "cell_type": "markdown",
   "metadata": {},
   "source": [
    "# CERTIFY"
   ]
  },
  {
   "attachments": {},
   "cell_type": "markdown",
   "metadata": {},
   "source": [
    "reluts obtained with my own training of their network, with sigma = 0.25"
   ]
  },
  {
   "cell_type": "code",
   "execution_count": 56,
   "metadata": {},
   "outputs": [
    {
     "name": "stdout",
     "output_type": "stream",
     "text": [
      "343\n",
      "335\n"
     ]
    },
    {
     "data": {
      "text/html": [
       "<div>\n",
       "<style scoped>\n",
       "    .dataframe tbody tr th:only-of-type {\n",
       "        vertical-align: middle;\n",
       "    }\n",
       "\n",
       "    .dataframe tbody tr th {\n",
       "        vertical-align: top;\n",
       "    }\n",
       "\n",
       "    .dataframe thead th {\n",
       "        text-align: right;\n",
       "    }\n",
       "</style>\n",
       "<table border=\"1\" class=\"dataframe\">\n",
       "  <thead>\n",
       "    <tr style=\"text-align: right;\">\n",
       "      <th></th>\n",
       "      <th>index</th>\n",
       "      <th>scene_id</th>\n",
       "      <th>sigma</th>\n",
       "      <th>col</th>\n",
       "      <th>r</th>\n",
       "    </tr>\n",
       "  </thead>\n",
       "  <tbody>\n",
       "    <tr>\n",
       "      <th>338</th>\n",
       "      <td>38</td>\n",
       "      <td>12</td>\n",
       "      <td>0.1</td>\n",
       "      <td>0</td>\n",
       "      <td>0.212537</td>\n",
       "    </tr>\n",
       "    <tr>\n",
       "      <th>339</th>\n",
       "      <td>39</td>\n",
       "      <td>13</td>\n",
       "      <td>0.1</td>\n",
       "      <td>0</td>\n",
       "      <td>0.275757</td>\n",
       "    </tr>\n",
       "    <tr>\n",
       "      <th>340</th>\n",
       "      <td>40</td>\n",
       "      <td>13</td>\n",
       "      <td>0.1</td>\n",
       "      <td>0</td>\n",
       "      <td>0.176849</td>\n",
       "    </tr>\n",
       "    <tr>\n",
       "      <th>341</th>\n",
       "      <td>41</td>\n",
       "      <td>13</td>\n",
       "      <td>0.1</td>\n",
       "      <td>0</td>\n",
       "      <td>0.311472</td>\n",
       "    </tr>\n",
       "    <tr>\n",
       "      <th>342</th>\n",
       "      <td>42</td>\n",
       "      <td>14</td>\n",
       "      <td>0.1</td>\n",
       "      <td>0</td>\n",
       "      <td>0.127532</td>\n",
       "    </tr>\n",
       "  </tbody>\n",
       "</table>\n",
       "</div>"
      ],
      "text/plain": [
       "     index  scene_id  sigma  col         r\n",
       "338     38        12    0.1    0  0.212537\n",
       "339     39        13    0.1    0  0.275757\n",
       "340     40        13    0.1    0  0.176849\n",
       "341     41        13    0.1    0  0.311472\n",
       "342     42        14    0.1    0  0.127532"
      ]
     },
     "execution_count": 56,
     "metadata": {},
     "output_type": "execute_result"
    }
   ],
   "source": [
    "# df_cert = pd.read_table(\"results_of_certify.txt\", sep=\"\\t\", skiprows=4)\n",
    "df_0_01 = pd.read_table(\"data/results_certify_all_0.01.txt\", sep=\"\\t\")\n",
    "df_0_04 = pd.read_table(\"data/results_certify_all_0.04.txt\", sep=\"\\t\")\n",
    "df_0_07 = pd.read_table(\"data/results_certify_all_0.07.txt\", sep=\"\\t\")\n",
    "df_0_10 = pd.read_table(\"data/results_certify_all_0.1.txt\", sep=\"\\t\")\n",
    "\n",
    "df = pd.concat([df_0_01,df_0_04,df_0_07,df_0_10]).reset_index()\n",
    "df.columns = [\"index\", \"scene_id\", \"sigma\", \"col\", \"r\"]\n",
    "\n",
    "print(df.shape[0])\n",
    "df = df[df[\"col\"] != -2] #drop solo agent\n",
    "print(df.shape[0])\n",
    "\n",
    "\n",
    "df.tail()"
   ]
  },
  {
   "cell_type": "code",
   "execution_count": 64,
   "metadata": {},
   "outputs": [],
   "source": [
    "def at_radius(df: pd.DataFrame, radius: float):\n",
    "    return ((df[\"col\"] == 0) & (df[\"r\"] >= radius)).mean()"
   ]
  },
  {
   "cell_type": "code",
   "execution_count": 48,
   "metadata": {},
   "outputs": [
    {
     "data": {
      "text/plain": [
       "index       0\n",
       "scene_id    0\n",
       "sigma       0\n",
       "col         0\n",
       "r           0\n",
       "dtype: int64"
      ]
     },
     "execution_count": 48,
     "metadata": {},
     "output_type": "execute_result"
    }
   ],
   "source": [
    "df[(df[\"col\"] == -1) & (df[\"col\"] == 1)].count() #only no col where predicted by smooth class"
   ]
  },
  {
   "cell_type": "code",
   "execution_count": 66,
   "metadata": {},
   "outputs": [
    {
     "data": {
      "text/plain": [
       "<matplotlib.legend.Legend at 0x1f07fa5f7c0>"
      ]
     },
     "execution_count": 66,
     "metadata": {},
     "output_type": "execute_result"
    },
    {
     "data": {
      "image/png": "[encoded data removed]",
      "text/plain": [
       "<Figure size 640x480 with 1 Axes>"
      ]
     },
     "metadata": {},
     "output_type": "display_data"
    }
   ],
   "source": [
    "max_radius = 0.5\n",
    "radius_step = 0.005\n",
    "radii = np.arange(0, max_radius + radius_step, radius_step)\n",
    "\n",
    "sigmas = df[\"sigma\"].unique()\n",
    "\n",
    "for sig in sigmas:\n",
    "    val = np.array([at_radius(df[df[\"sigma\"] == sig], radius) for radius in radii])\n",
    "    plt.plot(radii, val, label = f\"sigma = {sig}\")\n",
    "\n",
    "\n",
    "plt.title(\"certify for zero-col garanties\")\n",
    "plt.legend()"
   ]
  },
  {
   "cell_type": "code",
   "execution_count": null,
   "metadata": {},
   "outputs": [],
   "source": []
  },
  {
   "attachments": {},
   "cell_type": "markdown",
   "metadata": {},
   "source": [
    "# PREDICT"
   ]
  }
 ],
 "metadata": {
  "kernelspec": {
   "display_name": "Python 3",
   "language": "python",
   "name": "python3"
  },
  "language_info": {
   "codemirror_mode": {
    "name": "ipython",
    "version": 3
   },
   "file_extension": ".py",
   "mimetype": "text/x-python",
   "name": "python",
   "nbconvert_exporter": "python",
   "pygments_lexer": "ipython3",
   "version": "3.10.7"
  },
  "orig_nbformat": 4
 },
 "nbformat": 4,
 "nbformat_minor": 2
}
