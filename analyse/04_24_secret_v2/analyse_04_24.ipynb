{
 "cells": [
  {
   "cell_type": "code",
   "execution_count": 40,
   "metadata": {},
   "outputs": [],
   "source": [
    "import pandas as pd\n",
    "import matplotlib.pyplot as plt\n",
    "import numpy as np"
   ]
  },
  {
   "cell_type": "code",
   "execution_count": 41,
   "metadata": {},
   "outputs": [
    {
     "data": {
      "text/html": [
       "<div>\n",
       "<style scoped>\n",
       "    .dataframe tbody tr th:only-of-type {\n",
       "        vertical-align: middle;\n",
       "    }\n",
       "\n",
       "    .dataframe tbody tr th {\n",
       "        vertical-align: top;\n",
       "    }\n",
       "\n",
       "    .dataframe thead th {\n",
       "        text-align: right;\n",
       "    }\n",
       "</style>\n",
       "<table border=\"1\" class=\"dataframe\">\n",
       "  <thead>\n",
       "    <tr style=\"text-align: right;\">\n",
       "      <th></th>\n",
       "      <th>scene_id</th>\n",
       "      <th>col</th>\n",
       "      <th>ade</th>\n",
       "      <th>fde</th>\n",
       "    </tr>\n",
       "  </thead>\n",
       "  <tbody>\n",
       "    <tr>\n",
       "      <th>0</th>\n",
       "      <td>0</td>\n",
       "      <td>0</td>\n",
       "      <td>5.969887</td>\n",
       "      <td>5.716785</td>\n",
       "    </tr>\n",
       "    <tr>\n",
       "      <th>1</th>\n",
       "      <td>0</td>\n",
       "      <td>0</td>\n",
       "      <td>7.653719</td>\n",
       "      <td>7.243242</td>\n",
       "    </tr>\n",
       "    <tr>\n",
       "      <th>2</th>\n",
       "      <td>0</td>\n",
       "      <td>0</td>\n",
       "      <td>4.966607</td>\n",
       "      <td>4.629299</td>\n",
       "    </tr>\n",
       "    <tr>\n",
       "      <th>3</th>\n",
       "      <td>1</td>\n",
       "      <td>0</td>\n",
       "      <td>5.695782</td>\n",
       "      <td>5.509712</td>\n",
       "    </tr>\n",
       "  </tbody>\n",
       "</table>\n",
       "</div>"
      ],
      "text/plain": [
       "   scene_id  col       ade       fde\n",
       "0         0    0  5.969887  5.716785\n",
       "1         0    0  7.653719  7.243242\n",
       "2         0    0  4.966607  4.629299\n",
       "3         1    0  5.695782  5.509712"
      ]
     },
     "execution_count": 41,
     "metadata": {},
     "output_type": "execute_result"
    }
   ],
   "source": [
    "df_no_noise = pd.read_csv(\"data/no_noise_v2.txt\", sep=\"\\t\")\n",
    "df_no_noise[\"col\"] = df_no_noise[\"col\"].astype(\"int\")\n",
    "df_no_noise[\"fde\"] = df_no_noise[\"fde\"].astype(\"float\")\n",
    "df_no_noise[\"ade\"] = df_no_noise[\"ade\"].astype(\"float\");\n",
    "df_no_noise.head(4)"
   ]
  },
  {
   "cell_type": "code",
   "execution_count": 42,
   "metadata": {},
   "outputs": [
    {
     "data": {
      "text/plain": [
       "scene_id    33\n",
       "col         33\n",
       "ade         33\n",
       "fde         33\n",
       "dtype: int64"
      ]
     },
     "execution_count": 42,
     "metadata": {},
     "output_type": "execute_result"
    }
   ],
   "source": [
    "df_no_noise[df_no_noise[\"col\"] == -1].count()"
   ]
  },
  {
   "cell_type": "code",
   "execution_count": 43,
   "metadata": {},
   "outputs": [],
   "source": [
    "df_no_noise = df_no_noise[df_no_noise[\"col\"] != -1]"
   ]
  },
  {
   "cell_type": "code",
   "execution_count": 44,
   "metadata": {},
   "outputs": [
    {
     "data": {
      "text/html": [
       "<div>\n",
       "<style scoped>\n",
       "    .dataframe tbody tr th:only-of-type {\n",
       "        vertical-align: middle;\n",
       "    }\n",
       "\n",
       "    .dataframe tbody tr th {\n",
       "        vertical-align: top;\n",
       "    }\n",
       "\n",
       "    .dataframe thead th {\n",
       "        text-align: right;\n",
       "    }\n",
       "</style>\n",
       "<table border=\"1\" class=\"dataframe\">\n",
       "  <thead>\n",
       "    <tr style=\"text-align: right;\">\n",
       "      <th></th>\n",
       "      <th>scene_id</th>\n",
       "      <th>col</th>\n",
       "      <th>ade</th>\n",
       "      <th>fde</th>\n",
       "    </tr>\n",
       "  </thead>\n",
       "  <tbody>\n",
       "    <tr>\n",
       "      <th>143</th>\n",
       "      <td>47</td>\n",
       "      <td>1</td>\n",
       "      <td>5.070646</td>\n",
       "      <td>4.792682</td>\n",
       "    </tr>\n",
       "    <tr>\n",
       "      <th>323</th>\n",
       "      <td>107</td>\n",
       "      <td>1</td>\n",
       "      <td>3.571220</td>\n",
       "      <td>3.627868</td>\n",
       "    </tr>\n",
       "    <tr>\n",
       "      <th>350</th>\n",
       "      <td>116</td>\n",
       "      <td>1</td>\n",
       "      <td>4.181778</td>\n",
       "      <td>3.828690</td>\n",
       "    </tr>\n",
       "    <tr>\n",
       "      <th>380</th>\n",
       "      <td>126</td>\n",
       "      <td>1</td>\n",
       "      <td>5.242137</td>\n",
       "      <td>5.345856</td>\n",
       "    </tr>\n",
       "    <tr>\n",
       "      <th>418</th>\n",
       "      <td>139</td>\n",
       "      <td>1</td>\n",
       "      <td>7.784226</td>\n",
       "      <td>7.595784</td>\n",
       "    </tr>\n",
       "    <tr>\n",
       "      <th>...</th>\n",
       "      <td>...</td>\n",
       "      <td>...</td>\n",
       "      <td>...</td>\n",
       "      <td>...</td>\n",
       "    </tr>\n",
       "    <tr>\n",
       "      <th>2959</th>\n",
       "      <td>1579</td>\n",
       "      <td>1</td>\n",
       "      <td>3.401411</td>\n",
       "      <td>3.206642</td>\n",
       "    </tr>\n",
       "    <tr>\n",
       "      <th>2973</th>\n",
       "      <td>1593</td>\n",
       "      <td>1</td>\n",
       "      <td>3.870337</td>\n",
       "      <td>3.546267</td>\n",
       "    </tr>\n",
       "    <tr>\n",
       "      <th>2993</th>\n",
       "      <td>1613</td>\n",
       "      <td>1</td>\n",
       "      <td>5.163154</td>\n",
       "      <td>4.593074</td>\n",
       "    </tr>\n",
       "    <tr>\n",
       "      <th>3010</th>\n",
       "      <td>1630</td>\n",
       "      <td>1</td>\n",
       "      <td>4.187711</td>\n",
       "      <td>3.479748</td>\n",
       "    </tr>\n",
       "    <tr>\n",
       "      <th>3016</th>\n",
       "      <td>1636</td>\n",
       "      <td>1</td>\n",
       "      <td>4.922855</td>\n",
       "      <td>4.308636</td>\n",
       "    </tr>\n",
       "  </tbody>\n",
       "</table>\n",
       "<p>61 rows × 4 columns</p>\n",
       "</div>"
      ],
      "text/plain": [
       "      scene_id  col       ade       fde\n",
       "143         47    1  5.070646  4.792682\n",
       "323        107    1  3.571220  3.627868\n",
       "350        116    1  4.181778  3.828690\n",
       "380        126    1  5.242137  5.345856\n",
       "418        139    1  7.784226  7.595784\n",
       "...        ...  ...       ...       ...\n",
       "2959      1579    1  3.401411  3.206642\n",
       "2973      1593    1  3.870337  3.546267\n",
       "2993      1613    1  5.163154  4.593074\n",
       "3010      1630    1  4.187711  3.479748\n",
       "3016      1636    1  4.922855  4.308636\n",
       "\n",
       "[61 rows x 4 columns]"
      ]
     },
     "execution_count": 44,
     "metadata": {},
     "output_type": "execute_result"
    }
   ],
   "source": [
    "df_no_noise[df_no_noise[\"col\"] == 1]"
   ]
  },
  {
   "cell_type": "code",
   "execution_count": 45,
   "metadata": {},
   "outputs": [
    {
     "data": {
      "text/plain": [
       "(3113, 4)"
      ]
     },
     "execution_count": 45,
     "metadata": {},
     "output_type": "execute_result"
    }
   ],
   "source": [
    "df_no_noise.shape"
   ]
  },
  {
   "cell_type": "code",
   "execution_count": 46,
   "metadata": {},
   "outputs": [
    {
     "name": "stdout",
     "output_type": "stream",
     "text": [
      "num scene :  3113\n"
     ]
    },
    {
     "data": {
      "text/plain": [
       "scene_id    712.726309\n",
       "col           0.019595\n",
       "ade           4.672797\n",
       "fde           4.498527\n",
       "dtype: float64"
      ]
     },
     "execution_count": 46,
     "metadata": {},
     "output_type": "execute_result"
    }
   ],
   "source": [
    "print(\"num scene : \", df_no_noise.shape[0])\n",
    "df_no_noise.mean() #CR=0.09%, ade=0.52 fde=1.13 // expreted 7.3% 0.57 1.23"
   ]
  },
  {
   "attachments": {},
   "cell_type": "markdown",
   "metadata": {},
   "source": [
    "witohut stiching"
   ]
  },
  {
   "cell_type": "code",
   "execution_count": 47,
   "metadata": {},
   "outputs": [
    {
     "data": {
      "text/html": [
       "<div>\n",
       "<style scoped>\n",
       "    .dataframe tbody tr th:only-of-type {\n",
       "        vertical-align: middle;\n",
       "    }\n",
       "\n",
       "    .dataframe tbody tr th {\n",
       "        vertical-align: top;\n",
       "    }\n",
       "\n",
       "    .dataframe thead th {\n",
       "        text-align: right;\n",
       "    }\n",
       "</style>\n",
       "<table border=\"1\" class=\"dataframe\">\n",
       "  <thead>\n",
       "    <tr style=\"text-align: right;\">\n",
       "      <th></th>\n",
       "      <th>scene_id</th>\n",
       "      <th>col</th>\n",
       "      <th>ade</th>\n",
       "      <th>fde</th>\n",
       "    </tr>\n",
       "  </thead>\n",
       "  <tbody>\n",
       "    <tr>\n",
       "      <th>0</th>\n",
       "      <td>0</td>\n",
       "      <td>0</td>\n",
       "      <td>5.969887</td>\n",
       "      <td>5.716785</td>\n",
       "    </tr>\n",
       "    <tr>\n",
       "      <th>1</th>\n",
       "      <td>0</td>\n",
       "      <td>0</td>\n",
       "      <td>7.653719</td>\n",
       "      <td>7.243242</td>\n",
       "    </tr>\n",
       "    <tr>\n",
       "      <th>2</th>\n",
       "      <td>0</td>\n",
       "      <td>0</td>\n",
       "      <td>4.966607</td>\n",
       "      <td>4.629299</td>\n",
       "    </tr>\n",
       "    <tr>\n",
       "      <th>3</th>\n",
       "      <td>1</td>\n",
       "      <td>0</td>\n",
       "      <td>5.695782</td>\n",
       "      <td>5.509712</td>\n",
       "    </tr>\n",
       "  </tbody>\n",
       "</table>\n",
       "</div>"
      ],
      "text/plain": [
       "   scene_id  col       ade       fde\n",
       "0         0    0  5.969887  5.716785\n",
       "1         0    0  7.653719  7.243242\n",
       "2         0    0  4.966607  4.629299\n",
       "3         1    0  5.695782  5.509712"
      ]
     },
     "execution_count": 47,
     "metadata": {},
     "output_type": "execute_result"
    }
   ],
   "source": [
    "df_no_nan = pd.read_csv(\"data/no_noise_nan.txt\", sep=\"\\t\")\n",
    "df_no_nan[\"col\"] = df_no_nan[\"col\"].astype(\"int\")\n",
    "df_no_nan[\"fde\"] = df_no_nan[\"fde\"].astype(\"float\")\n",
    "df_no_nan[\"ade\"] = df_no_nan[\"ade\"].astype(\"float\");\n",
    "df_no_nan.head(4)"
   ]
  },
  {
   "cell_type": "code",
   "execution_count": null,
   "metadata": {},
   "outputs": [],
   "source": [
    "df_no_nan[df_no_nan[\"col\"] == 1]"
   ]
  }
 ],
 "metadata": {
  "kernelspec": {
   "display_name": "Python 3",
   "language": "python",
   "name": "python3"
  },
  "language_info": {
   "codemirror_mode": {
    "name": "ipython",
    "version": 3
   },
   "file_extension": ".py",
   "mimetype": "text/x-python",
   "name": "python",
   "nbconvert_exporter": "python",
   "pygments_lexer": "ipython3",
   "version": "3.10.7"
  },
  "orig_nbformat": 4
 },
 "nbformat": 4,
 "nbformat_minor": 2
}
